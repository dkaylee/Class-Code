{
 "cells": [
  {
   "cell_type": "code",
   "execution_count": 7,
   "metadata": {},
   "outputs": [
    {
     "name": "stdout",
     "output_type": "stream",
     "text": [
      "['AA', 'BB', 'CC']\n",
      "\n",
      "<enumerate object at 0x7fd37f395980>\n",
      "[(0, 'AA'), (1, 'BB'), (2, 'CC')]\n",
      "0 AA\n",
      "0 AA\n",
      "\n",
      "0 AA\n",
      "1 BB\n",
      "2 CC\n"
     ]
    }
   ],
   "source": [
    "list_ex = ['AA', 'BB', 'CC']\n",
    "\n",
    "# list_ex 출력\n",
    "print(list_ex)\n",
    "print()\n",
    "\n",
    "# \n",
    "list_ex_en = enumerate(list_ex)\n",
    "print(list_ex_en)\n",
    "\n",
    "# enumerate 객체 -> list 객체\n",
    "list_ex2 = list(list_ex_en)\n",
    "print(list_ex2)\n",
    "\n",
    "# 변수의 초기화(할당)\n",
    "i, v = list_ex2[0]\n",
    "print(i,v)\n",
    "\n",
    "print(i,v)\n",
    "\n",
    "print()\n",
    "\n",
    "for i,v in list_ex2:\n",
    "    print(i,v)\n"
   ]
  },
  {
   "cell_type": "code",
   "execution_count": 10,
   "metadata": {},
   "outputs": [
    {
     "name": "stdout",
     "output_type": "stream",
     "text": [
      "{'name': '메시', 'number': 1, 'team': 'FCB'}\n",
      "dict_items([('name', '메시'), ('number', 1), ('team', 'FCB')])\n",
      "메시의 정보=============\n",
      "name : 메시\n",
      "number : 1\n",
      "team : FCB\n"
     ]
    }
   ],
   "source": [
    "# dic의 속성을 일괄 처리\n",
    "# item()\n",
    "# : dic의 속성과 값을 하나로묶어 요소로 만들고 이 요소들을 가지는 리스트를 반환\n",
    "\n",
    "#dic\n",
    "dic_player = {\n",
    "    'name': '메시',\n",
    "    'number': 1,\n",
    "    'team':'FCB'\n",
    "}\n",
    "\n",
    "print(dic_player)\n",
    "\n",
    "#dic -> list\n",
    "list_player_att = dic_player.items()\n",
    "print(list_player_att)\n",
    "\n",
    "print('메시의 정보=============')\n",
    "for key, value in list_player_att:\n",
    "    print(key, ':', value)\n"
   ]
  },
  {
   "cell_type": "code",
   "execution_count": 16,
   "metadata": {},
   "outputs": [
    {
     "name": "stdout",
     "output_type": "stream",
     "text": [
      "[0, 4, 16, 36, 64, 100, 144, 196, 256, 324]\n",
      "\n",
      "[0, 4, 16, 36, 64, 100, 144, 196, 256, 324]\n",
      "[144, 196, 256, 324]\n"
     ]
    }
   ],
   "source": [
    "# list 요소 생성\n",
    "# 1\n",
    "\n",
    "array = []\n",
    "for i in range(0,20,2):\n",
    "    array.append(i*i)\n",
    "    \n",
    "print(array)\n",
    "print()\n",
    "\n",
    "#2\n",
    "array2 = [i*i for i in range(0,20,2)]\n",
    "print(array2)\n",
    "\n",
    "#3\n",
    "array3 = [i for i in array2 if i>100]\n",
    "print(array3)\n"
   ]
  },
  {
   "cell_type": "code",
   "execution_count": 17,
   "metadata": {},
   "outputs": [
    {
     "name": "stdout",
     "output_type": "stream",
     "text": [
      "A\n",
      "A\n",
      "A\n"
     ]
    }
   ],
   "source": [
    "# 함수 정의\n",
    "# def 함수이름(매개변수, 매개변수, ...)\n",
    "\n",
    "def print_3_times():\n",
    "    print('A')\n",
    "    print('A')    \n",
    "    print('A')    \n",
    "print_3_times()"
   ]
  },
  {
   "cell_type": "code",
   "execution_count": 26,
   "metadata": {},
   "outputs": [
    {
     "name": "stdout",
     "output_type": "stream",
     "text": [
      "Python\n",
      "Python\n",
      "Python\n",
      "Python\n",
      "Python\n",
      "함수의 기능 실행 완료\n"
     ]
    }
   ],
   "source": [
    "def print_n_times(val, n):\n",
    "    for i in range(n):\n",
    "        print(val)\n",
    "        \n",
    "    print('함수의 기능 실행 완료')\n",
    "    \n",
    "print_n_times('Python',5)\n",
    "#print_n_times('Python','5')\n"
   ]
  },
  {
   "cell_type": "code",
   "execution_count": 28,
   "metadata": {},
   "outputs": [
    {
     "name": "stdout",
     "output_type": "stream",
     "text": [
      "HI~\n",
      "fun\n",
      "Python Programming\n",
      "\n",
      "HI~\n",
      "fun\n",
      "Python Programming\n",
      "\n",
      "HI~\n",
      "fun\n",
      "Python Programming\n",
      "\n",
      "함수 종료\n"
     ]
    }
   ],
   "source": [
    "# 함수의 가변 매개변수\n",
    "def print_times(n, *vals):\n",
    "    \n",
    "    for i in range(n):\n",
    "        for val in vals:\n",
    "            print(val)\n",
    "        print()\n",
    "    print('함수 종료')\n",
    "\n",
    "# 함수호출\n",
    "print_times(3, 'HI~','fun','Python Programming')\n"
   ]
  },
  {
   "cell_type": "code",
   "execution_count": 32,
   "metadata": {},
   "outputs": [
    {
     "name": "stdout",
     "output_type": "stream",
     "text": [
      "aa bb cc₩t"
     ]
    },
    {
     "ename": "TypeError",
     "evalue": "'둥' is an invalid keyword argument for print()",
     "output_type": "error",
     "traceback": [
      "\u001b[0;31m---------------------------------------------------------------------------\u001b[0m",
      "\u001b[0;31mTypeError\u001b[0m                                 Traceback (most recent call last)",
      "\u001b[0;32m<ipython-input-32-076da05f58ca>\u001b[0m in \u001b[0;36m<module>\u001b[0;34m\u001b[0m\n\u001b[1;32m      2\u001b[0m \u001b[0;31m# print -> sep='', end='₩n', file=sys.stdout, flush=False\u001b[0m\u001b[0;34m\u001b[0m\u001b[0;34m\u001b[0m\u001b[0;34m\u001b[0m\u001b[0m\n\u001b[1;32m      3\u001b[0m \u001b[0mprint\u001b[0m\u001b[0;34m(\u001b[0m\u001b[0;34m'aa'\u001b[0m\u001b[0;34m,\u001b[0m \u001b[0;34m'bb'\u001b[0m\u001b[0;34m,\u001b[0m \u001b[0;34m'cc'\u001b[0m\u001b[0;34m,\u001b[0m \u001b[0mend\u001b[0m\u001b[0;34m=\u001b[0m\u001b[0;34m'₩t'\u001b[0m\u001b[0;34m)\u001b[0m\u001b[0;34m\u001b[0m\u001b[0;34m\u001b[0m\u001b[0m\n\u001b[0;32m----> 4\u001b[0;31m \u001b[0mprint\u001b[0m\u001b[0;34m(\u001b[0m\u001b[0;34m'aa'\u001b[0m\u001b[0;34m,\u001b[0m \u001b[0;34m'bb'\u001b[0m\u001b[0;34m,\u001b[0m \u001b[0;34m'cc'\u001b[0m\u001b[0;34m,\u001b[0m \u001b[0msep\u001b[0m\u001b[0;34m=\u001b[0m\u001b[0;34m'₩'\u001b[0m\u001b[0;34m,\u001b[0m \u001b[0m둥\u001b[0m\u001b[0;34m=\u001b[0m\u001b[0;34m'₩t'\u001b[0m\u001b[0;34m)\u001b[0m\u001b[0;34m\u001b[0m\u001b[0;34m\u001b[0m\u001b[0m\n\u001b[0m\u001b[1;32m      5\u001b[0m \u001b[0mprint\u001b[0m\u001b[0;34m(\u001b[0m\u001b[0;34m'11'\u001b[0m\u001b[0;34m,\u001b[0m \u001b[0;34m'11'\u001b[0m\u001b[0;34m,\u001b[0m \u001b[0;34m'32'\u001b[0m\u001b[0;34m,\u001b[0m \u001b[0msep\u001b[0m\u001b[0;34m=\u001b[0m\u001b[0;34m':'\u001b[0m\u001b[0;34m)\u001b[0m\u001b[0;34m\u001b[0m\u001b[0;34m\u001b[0m\u001b[0m\n",
      "\u001b[0;31mTypeError\u001b[0m: '둥' is an invalid keyword argument for print()"
     ]
    }
   ],
   "source": [
    "# 기본 매개변수\n",
    "# print -> sep='', end='₩n', file=sys.stdout, flush=False\n",
    "print('aa', 'bb', 'cc', end='₩t')\n",
    "print('aa', 'bb', 'cc', sep='₩', 둥='₩t')\n",
    "print('11', '11', '32', sep=':')"
   ]
  },
  {
   "cell_type": "code",
   "execution_count": 38,
   "metadata": {},
   "outputs": [
    {
     "name": "stdout",
     "output_type": "stream",
     "text": [
      "HI~\n",
      "fun\n",
      "Python Programming\n",
      "\n",
      "HI~\n",
      "fun\n",
      "Python Programming\n",
      "\n",
      "HI~\n",
      "fun\n",
      "Python Programming\n",
      "\n",
      "함수 종료\n"
     ]
    }
   ],
   "source": [
    "# 함수의 가변 매개변수\n",
    "def print_nn_times(*vals, n=2):\n",
    "    \n",
    "    for i in range(n):\n",
    "        for val in vals:\n",
    "            print(val)\n",
    "        print()\n",
    "    print('함수 종료')\n",
    "\n",
    "# 함수호출\n",
    "print_nn_times('HI~','fun','Python Programming', n=3)\n",
    "\n"
   ]
  },
  {
   "cell_type": "code",
   "execution_count": 41,
   "metadata": {},
   "outputs": [
    {
     "name": "stdout",
     "output_type": "stream",
     "text": [
      "10\n",
      "None\n"
     ]
    }
   ],
   "source": [
    "#함수의 return\n",
    "\n",
    "def func():\n",
    "    return 10\n",
    "def func2():\n",
    "    return \n",
    "\n",
    "print(func())\n",
    "print(func2()) #리턴이 없으면 none\n",
    "\n"
   ]
  },
  {
   "cell_type": "code",
   "execution_count": 48,
   "metadata": {},
   "outputs": [
    {
     "name": "stdout",
     "output_type": "stream",
     "text": [
      "10 20 30 40 50 60\n",
      "20 10 30 40 50 60\n"
     ]
    }
   ],
   "source": [
    "#튜플\n",
    "\n",
    "[a,b] = [10,20]\n",
    "(c,d) = (30,40)\n",
    "\n",
    "e,f= 50, 60\n",
    "\n",
    "print(a,b,c,d,e,f)\n",
    "\n",
    "a,b = b,a\n",
    "\n",
    "\n",
    "print(a,b,c,d,e,f)"
   ]
  },
  {
   "cell_type": "code",
   "execution_count": 56,
   "metadata": {},
   "outputs": [
    {
     "name": "stdout",
     "output_type": "stream",
     "text": [
      "<map object at 0x7fd37f45cbb0>\n",
      "[1, 4, 9, 16, 25]\n",
      "<filter object at 0x7fd37f45c6a0>\n",
      "[1, 2]\n"
     ]
    }
   ],
   "source": [
    "def power(item):\n",
    "    return item*item\n",
    "def under_3(item):\n",
    "    return item<3\n",
    "\n",
    "list_a = [1,2,3,4,5]\n",
    "\n",
    "# map() 이용해서 리스트 생성\n",
    "#output_a = map(power, list_a)\n",
    "#lamda를 이용한 함수 정의\n",
    "output_a = map(lambda x:x*x, list_a)\n",
    "print(output_a)\n",
    "output_list_a = list(output_a)\n",
    "print(output_list_a)\n",
    "\n",
    "#filter\n",
    "#output_b = filter(under_3, list_a)\n",
    "output_b = filter(lambda x:x<3, list_a)\n",
    "\n",
    "\n",
    "print(output_b)\n",
    "output_list_b = list(output_b)\n",
    "print(output_list_b)\n"
   ]
  },
  {
   "cell_type": "code",
   "execution_count": 60,
   "metadata": {},
   "outputs": [],
   "source": [
    "# open() : 파일 i/o처리할때 사용\n",
    "\n",
    "\n",
    "file = open('basic.txt', 'w')\n",
    "\n",
    "file.write('Hello~Python')\n",
    "file.close()\n"
   ]
  },
  {
   "cell_type": "code",
   "execution_count": 61,
   "metadata": {},
   "outputs": [],
   "source": [
    "# with : open() 함수 사용 후 close() 함수를 자동으로 호출\n",
    "# 쓰기는 새로운 파일로 완전히 대체 (기존거 삭제)\n",
    "with open('basic.txt', 'w') as file:\n",
    "    file.write('Hi~Python')"
   ]
  },
  {
   "cell_type": "code",
   "execution_count": 62,
   "metadata": {},
   "outputs": [
    {
     "name": "stdout",
     "output_type": "stream",
     "text": [
      "Hi~Python\n"
     ]
    }
   ],
   "source": [
    "# read() : 파일의 내용 텍스트 읽기\n",
    "\n",
    "with open('basic.txt', 'r') as file:\n",
    "    content = file.read()\n",
    "    print(content)"
   ]
  },
  {
   "cell_type": "code",
   "execution_count": 65,
   "metadata": {},
   "outputs": [
    {
     "name": "stdout",
     "output_type": "stream",
     "text": [
      "['가', '나', '다', '라', '마', '바', '사', '아', '자', '차', '카', '타', '파', '하']\n",
      "파일 생성 완료\n"
     ]
    }
   ],
   "source": [
    "import random\n",
    "\n",
    "han = list('가나다라마바사아자차카타파하')\n",
    "print(han)\n",
    "\n",
    "with open('info.txt','w') as file:\n",
    "    for i in range(1000):\n",
    "        name = random.choice(han)+random.choice(han)+random.choice(han)\n",
    "        weight = random.randrange(40, 100)\n",
    "        height = random.randrange(140, 200)\n",
    "        \n",
    "        file.write('{},{},{}\\n'.format(name, weight, height))\n",
    "    print('파일 생성 완료')\n",
    "    "
   ]
  },
  {
   "cell_type": "code",
   "execution_count": 72,
   "metadata": {},
   "outputs": [
    {
     "ename": "ValueError",
     "evalue": "not enough values to unpack (expected 3, got 1)",
     "output_type": "error",
     "traceback": [
      "\u001b[0;31m---------------------------------------------------------------------------\u001b[0m",
      "\u001b[0;31mValueError\u001b[0m                                Traceback (most recent call last)",
      "\u001b[0;32m<ipython-input-72-c113f2709cdd>\u001b[0m in \u001b[0;36m<module>\u001b[0;34m\u001b[0m\n\u001b[1;32m     12\u001b[0m         \u001b[0;31m#cnt += 1\u001b[0m\u001b[0;34m\u001b[0m\u001b[0;34m\u001b[0m\u001b[0;34m\u001b[0m\u001b[0m\n\u001b[1;32m     13\u001b[0m \u001b[0;34m\u001b[0m\u001b[0m\n\u001b[0;32m---> 14\u001b[0;31m         \u001b[0mname\u001b[0m\u001b[0;34m,\u001b[0m \u001b[0mweight\u001b[0m\u001b[0;34m,\u001b[0m \u001b[0mheight\u001b[0m \u001b[0;34m=\u001b[0m \u001b[0mline\u001b[0m\u001b[0;34m.\u001b[0m\u001b[0mstrip\u001b[0m\u001b[0;34m(\u001b[0m\u001b[0;34m)\u001b[0m\u001b[0;34m.\u001b[0m\u001b[0msplit\u001b[0m\u001b[0;34m(\u001b[0m\u001b[0;34m', '\u001b[0m\u001b[0;34m)\u001b[0m\u001b[0;34m\u001b[0m\u001b[0;34m\u001b[0m\u001b[0m\n\u001b[0m\u001b[1;32m     15\u001b[0m \u001b[0;34m\u001b[0m\u001b[0m\n\u001b[1;32m     16\u001b[0m         \u001b[0;31m# 변수의 값의 유무를 확인하고 값을 처리하지 않는 처리\u001b[0m\u001b[0;34m\u001b[0m\u001b[0;34m\u001b[0m\u001b[0;34m\u001b[0m\u001b[0m\n",
      "\u001b[0;31mValueError\u001b[0m: not enough values to unpack (expected 3, got 1)"
     ]
    }
   ],
   "source": [
    "with open('info.txt', 'r') as file:\n",
    "    \n",
    "    cnt = 0;\n",
    "    \n",
    "    for line in file :\n",
    "        \n",
    "        if cnt > 30 :\n",
    "            break\n",
    "            \n",
    "        #strip 좌우공백 제거\n",
    "        #print(line.strip())\n",
    "        #cnt += 1\n",
    "        \n",
    "        name, weight, height = line.strip().split(', ')\n",
    "        \n",
    "        # 변수의 값의 유무를 확인하고 값을 처리하지 않는 처리\n",
    "        if (not name) or (not weight) or (not height):\n",
    "            continue\n",
    "        \n",
    "        #비만도 계산\n",
    "        bmi = int(weight) / (int(height)/100 * int(height)/100)\n",
    "        \n",
    "        result = ''\n",
    "        \n",
    "        if bmi >= 23 :\n",
    "            result = '과체중'\n",
    "        elif bmi >= 18.5:\n",
    "            result = '정상체중'\n",
    "        else :\n",
    "            result = '저체중'\n",
    "            \n",
    "        print('{},{},{},{},{}'.format(name, weight, height, bmi, result))   \n",
    "        \n",
    "        cnt += 1\n",
    "        "
   ]
  },
  {
   "cell_type": "code",
   "execution_count": null,
   "metadata": {},
   "outputs": [],
   "source": []
  },
  {
   "cell_type": "code",
   "execution_count": null,
   "metadata": {},
   "outputs": [],
   "source": []
  }
 ],
 "metadata": {
  "kernelspec": {
   "display_name": "Python 3",
   "language": "python",
   "name": "python3"
  },
  "language_info": {
   "codemirror_mode": {
    "name": "ipython",
    "version": 3
   },
   "file_extension": ".py",
   "mimetype": "text/x-python",
   "name": "python",
   "nbconvert_exporter": "python",
   "pygments_lexer": "ipython3",
   "version": "3.8.5"
  }
 },
 "nbformat": 4,
 "nbformat_minor": 4
}
